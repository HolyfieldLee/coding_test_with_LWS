{
 "cells": [
  {
   "cell_type": "markdown",
   "metadata": {},
   "source": [
    "# 11번 풀이"
   ]
  },
  {
   "cell_type": "code",
   "execution_count": null,
   "metadata": {
    "vscode": {
     "languageId": "plaintext"
    }
   },
   "outputs": [],
   "source": [
    "import sys\n",
    "input = sys.stdin.readline\n",
    "\n",
    "n = int(input())\n",
    "stack = []         # 스택을 초기화합니다.\n",
    "result = []        # 연산 기록을 저장할 리스트입니다.\n",
    "current = 1        # 1부터 시작하여 스택에 넣을 숫자입니다.\n",
    "\n",
    "for _ in range(n):\n",
    "    target = int(input())\n",
    "    \n",
    "    # target까지 숫자를 스택에 push합니다.\n",
    "    while current <= target:\n",
    "        stack.append(current)\n",
    "        result.append('+')\n",
    "        current += 1\n",
    "\n",
    "    # 스택의 top이 target과 일치하면 pop합니다.\n",
    "    # stack과 stack[-1] == target를 나누어서 봐야 한다. if stack은 스택이 비어있지 않은 경우에만 참이 된다\n",
    "    # python에서는 리스트가 비어있으면 False로 평가되기에.\n",
    "    # stack[-1] == target은 리스트의 마지막 요소, 즉 스택의 가장 위에 있는 숫자를 의미한다.\n",
    "    # 가장 위의 숫자 == target과 일치하는지 여부를 파악.\n",
    "\n",
    "    \n",
    "    if stack and stack[-1] == target:\n",
    "        stack.pop()\n",
    "        result.append('-')\n",
    "    else:\n",
    "        # target을 만들 수 없는 경우 \"NO\"를 출력하고 종료합니다.\n",
    "        print(\"NO\")\n",
    "        sys.exit(0)\n",
    "\n",
    "# 가능한 경우, 기록된 연산들을 출력합니다.\n",
    "print(\"\\n\".join(result))\n"
   ]
  },
  {
   "cell_type": "markdown",
   "metadata": {},
   "source": [
    "# 12번 오큰수"
   ]
  },
  {
   "cell_type": "code",
   "execution_count": null,
   "metadata": {
    "vscode": {
     "languageId": "plaintext"
    }
   },
   "outputs": [],
   "source": [
    "import sys\n",
    "input = sys.stdin.readline\n",
    "\n",
    "n = int(input().strip())\n",
    "nums = list(map(int, input().split()))\n",
    "result = [-1] * n  # 모든 원소의 오큰수를 초기값 -1로 설정\n",
    "\n",
    "stack = []  # 오큰수를 아직 찾지 못한 원소의 인덱스를 저장할 스택\n",
    "for i in range(n):\n",
    "    # 현재 원소(nums[i])가 스택에 있는 인덱스의 원소보다 크다면\n",
    "    # 현재 원소가 그 인덱스의 오큰수임.\n",
    "    while stack and nums[stack[-1]] < nums[i]:\n",
    "        result[stack.pop()] = nums[i]\n",
    "    # 현재 원소의 인덱스를 스택에 저장\n",
    "    stack.append(i)\n",
    "\n",
    "print(\" \".join(map(str, result)))\n"
   ]
  },
  {
   "attachments": {
    "image.png": {
     "image/png": "[encoded data removed]"
    }
   },
   "cell_type": "markdown",
   "metadata": {},
   "source": [
    "![image.png](attachment:image.png)\n",
    "\n",
    "### 초기 상태:\n",
    "nums = [3, 5, 2, 7], result = [-1, -1, -1, -1], stack = []\n",
    "\n",
    "### i = 0 (nums[0] = 3):\n",
    "→ 스택이 비어 있으므로 while문은 실행되지 않습니다.\n",
    "→ 스택에 인덱스 0을 추가 → stack = [0]\n",
    "\n",
    "### i = 1 (nums[1] = 5):\n",
    "→ stack에 있는 인덱스 0의 값은 nums[0] = 3이고, 3 < 5이므로 while문 실행.\n",
    "→ result[0]를 5로 갱신 → result = [5, -1, -1, -1]\n",
    "→ 스택에서 0을 pop → stack = []\n",
    "→ while문 종료 후, 인덱스 1을 스택에 추가 → stack = [1]\n",
    "\n",
    "### i = 2 (nums[2] = 2):\n",
    "→ 스택의 맨 위 인덱스 1의 값은 nums[1] = 5, 5 > 2이므로 while문 실행되지 않음.\n",
    "→ 인덱스 2를 스택에 추가 → stack = [1, 2]\n",
    "\n",
    "### i = 3 (nums[3] = 7):\n",
    "→ 스택의 맨 위 인덱스 2의 값은 nums[2] = 2, 2 < 7 → while문 실행\n",
    "→ result[2]를 7로 갱신 → result = [5, -1, 7, -1]\n",
    "→ 스택에서 인덱스 2를 pop → stack = [1] → 다시 while문: 스택의 맨 위 인덱스 1의 값은 nums[1] = 5, 5 < 7 → while문 실행\n",
    "→ result[1]를 7로 갱신 → result = [5, 7, 7, -1]\n",
    "→ 스택에서 인덱스 1을 pop → stack = [] → while문 종료 후, 인덱스 3을 스택에 추가 → stack = [3]\n",
    "\n",
    "### 최종 결과:\n",
    "스택에 남은 인덱스 3은 오큰수가 없으므로 result[3]은 그대로 -1입니다.\n",
    "→ 출력: 5 7 7 -1\n",
    "\n",
    "\n"
   ]
  },
  {
   "cell_type": "code",
   "execution_count": null,
   "metadata": {
    "vscode": {
     "languageId": "plaintext"
    }
   },
   "outputs": [],
   "source": []
  },
  {
   "cell_type": "code",
   "execution_count": null,
   "metadata": {
    "vscode": {
     "languageId": "plaintext"
    }
   },
   "outputs": [],
   "source": []
  }
 ],
 "metadata": {
  "language_info": {
   "name": "python"
  }
 },
 "nbformat": 4,
 "nbformat_minor": 2
}
